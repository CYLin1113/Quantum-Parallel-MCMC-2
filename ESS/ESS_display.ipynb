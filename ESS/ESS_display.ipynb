{
 "cells": [
  {
   "cell_type": "code",
   "execution_count": 1,
   "id": "1f79c02f",
   "metadata": {},
   "outputs": [
    {
     "name": "stderr",
     "output_type": "stream",
     "text": [
      "<frozen importlib._bootstrap>:219: RuntimeWarning: scipy._lib.messagestream.MessageStream size changed, may indicate binary incompatibility. Expected 56 from C header, got 64 from PyObject\n"
     ]
    }
   ],
   "source": [
    "import numpy as np\n",
    "import qiskit\n",
    "from qiskit import QuantumCircuit, Aer\n",
    "import random\n",
    "import networkx as nx\n",
    "import matplotlib.pyplot as plt\n",
    "import arviz as az\n",
    "import random\n"
   ]
  },
  {
   "cell_type": "code",
   "execution_count": 2,
   "id": "f180f17b",
   "metadata": {},
   "outputs": [
    {
     "name": "stdout",
     "output_type": "stream",
     "text": [
      "logprob_MetropolisHastings_flips=1_J=0.03_m=1_r0_esscountingmean.txt\n",
      "logprob_MetropolisHastings_flips=1_J=0.03_m=1_r1_esscountingmean.txt\n",
      "logprob_MetropolisHastings_flips=1_J=0.03_m=1_r2_esscountingmean.txt\n",
      "logprob_MetropolisHastings_flips=1_J=0.03_m=1_r3_esscountingmean.txt\n",
      "logprob_MetropolisHastings_flips=1_J=0.03_m=1_r4_esscountingmean.txt\n",
      "logprob_MetropolisHastings_flips=1_J=0.03_m=1_r5_esscountingmean.txt\n",
      "logprob_MetropolisHastings_flips=1_J=0.03_m=1_r6_esscountingmean.txt\n",
      "logprob_MetropolisHastings_flips=1_J=0.03_m=1_r7_esscountingmean.txt\n",
      "logprob_MetropolisHastings_flips=1_J=0.03_m=1_r8_esscountingmean.txt\n",
      "logprob_MetropolisHastings_flips=1_J=0.03_m=1_r9_esscountingmean.txt\n",
      "logprob_Barker_flips=1_P=1_J=0.03_m=1_r0_esscountingmean.txt\n",
      "logprob_Barker_flips=1_P=1_J=0.03_m=1_r1_esscountingmean.txt\n",
      "logprob_Barker_flips=1_P=1_J=0.03_m=1_r2_esscountingmean.txt\n",
      "logprob_Barker_flips=1_P=1_J=0.03_m=1_r3_esscountingmean.txt\n",
      "logprob_Barker_flips=1_P=1_J=0.03_m=1_r4_esscountingmean.txt\n",
      "logprob_Barker_flips=1_P=1_J=0.03_m=1_r5_esscountingmean.txt\n",
      "logprob_Barker_flips=1_P=1_J=0.03_m=1_r6_esscountingmean.txt\n",
      "logprob_Barker_flips=1_P=1_J=0.03_m=1_r7_esscountingmean.txt\n",
      "logprob_Barker_flips=1_P=1_J=0.03_m=1_r8_esscountingmean.txt\n",
      "logprob_Barker_flips=1_P=1_J=0.03_m=1_r9_esscountingmean.txt\n",
      "logprob_Barker_flips=1_P=5_J=0.03_m=1_r0_esscountingmean.txt\n",
      "logprob_Barker_flips=1_P=5_J=0.03_m=1_r1_esscountingmean.txt\n",
      "logprob_Barker_flips=1_P=5_J=0.03_m=1_r2_esscountingmean.txt\n",
      "logprob_Barker_flips=1_P=5_J=0.03_m=1_r3_esscountingmean.txt\n",
      "logprob_Barker_flips=1_P=5_J=0.03_m=1_r4_esscountingmean.txt\n",
      "logprob_Barker_flips=1_P=5_J=0.03_m=1_r5_esscountingmean.txt\n",
      "logprob_Barker_flips=1_P=5_J=0.03_m=1_r6_esscountingmean.txt\n",
      "logprob_Barker_flips=1_P=5_J=0.03_m=1_r7_esscountingmean.txt\n",
      "logprob_Barker_flips=1_P=5_J=0.03_m=1_r8_esscountingmean.txt\n",
      "logprob_Barker_flips=1_P=5_J=0.03_m=1_r9_esscountingmean.txt\n",
      "logprob_Barker_flips=1_P=10_J=0.03_m=1_r0_esscountingmean.txt\n",
      "logprob_Barker_flips=1_P=10_J=0.03_m=1_r1_esscountingmean.txt\n",
      "logprob_Barker_flips=1_P=10_J=0.03_m=1_r2_esscountingmean.txt\n",
      "logprob_Barker_flips=1_P=10_J=0.03_m=1_r3_esscountingmean.txt\n",
      "logprob_Barker_flips=1_P=10_J=0.03_m=1_r4_esscountingmean.txt\n",
      "logprob_Barker_flips=1_P=10_J=0.03_m=1_r5_esscountingmean.txt\n",
      "logprob_Barker_flips=1_P=10_J=0.03_m=1_r6_esscountingmean.txt\n",
      "logprob_Barker_flips=1_P=10_J=0.03_m=1_r7_esscountingmean.txt\n",
      "logprob_Barker_flips=1_P=10_J=0.03_m=1_r8_esscountingmean.txt\n",
      "logprob_Barker_flips=1_P=10_J=0.03_m=1_r9_esscountingmean.txt\n",
      "logprob_Barker_flips=1_P=30_J=0.03_m=1_r0_esscountingmean.txt\n",
      "logprob_Barker_flips=1_P=30_J=0.03_m=1_r1_esscountingmean.txt\n",
      "logprob_Barker_flips=1_P=30_J=0.03_m=1_r2_esscountingmean.txt\n",
      "logprob_Barker_flips=1_P=30_J=0.03_m=1_r3_esscountingmean.txt\n",
      "logprob_Barker_flips=1_P=30_J=0.03_m=1_r4_esscountingmean.txt\n",
      "logprob_Barker_flips=1_P=30_J=0.03_m=1_r5_esscountingmean.txt\n",
      "logprob_Barker_flips=1_P=30_J=0.03_m=1_r6_esscountingmean.txt\n",
      "logprob_Barker_flips=1_P=30_J=0.03_m=1_r7_esscountingmean.txt\n",
      "logprob_Barker_flips=1_P=30_J=0.03_m=1_r8_esscountingmean.txt\n",
      "logprob_Barker_flips=1_P=30_J=0.03_m=1_r9_esscountingmean.txt\n",
      "logprob_Barker_flips=1_P=70_J=0.03_m=1_r0_esscountingmean.txt\n",
      "logprob_Barker_flips=1_P=70_J=0.03_m=1_r1_esscountingmean.txt\n",
      "logprob_Barker_flips=1_P=70_J=0.03_m=1_r2_esscountingmean.txt\n",
      "logprob_Barker_flips=1_P=70_J=0.03_m=1_r3_esscountingmean.txt\n",
      "logprob_Barker_flips=1_P=70_J=0.03_m=1_r4_esscountingmean.txt\n",
      "logprob_Barker_flips=1_P=70_J=0.03_m=1_r5_esscountingmean.txt\n",
      "logprob_Barker_flips=1_P=70_J=0.03_m=1_r6_esscountingmean.txt\n",
      "logprob_Barker_flips=1_P=70_J=0.03_m=1_r7_esscountingmean.txt\n",
      "logprob_Barker_flips=1_P=70_J=0.03_m=1_r8_esscountingmean.txt\n",
      "logprob_Barker_flips=1_P=70_J=0.03_m=1_r9_esscountingmean.txt\n"
     ]
    }
   ],
   "source": [
    "# ---------------------Fig.6:Data----------------------------------\n",
    "\n",
    "flip=1\n",
    "coe_J=0.03\n",
    "# Plist=[1,3,5,10, 30, 50, 70]\n",
    "Plist=[1,5,10, 30, 70]\n",
    "#------------1st. Metropolis Hasting--------------------------------------  \n",
    "logprob_MH= []  \n",
    "for r in range(10):  \n",
    "    \n",
    "    file_path = \"logprob_MetropolisHastings_flips=\"+str(flip)+\"_J=\"+str(coe_J)+\"_m=1_r\"+str(r)+\"_esscountingmean.txt\"\n",
    "    print(file_path)\n",
    "    logprob_onerep=[]\n",
    "    with open(file_path, 'r') as file:\n",
    "        for line in file:\n",
    "            cleaned_line = (line.strip()).split(' ') # Remove newline characters\n",
    "            logprob_onerep.append(int(cleaned_line[0]))\n",
    "    logprob_MH.append(logprob_onerep)\n",
    "\n",
    "#------------2nd. Barker P=1,5,10,30,70 -------------------------------------------------\n",
    "\n",
    "\n",
    "logprob_Barker =[]\n",
    "for coe_P in Plist:\n",
    "    logprob_repi=[]\n",
    "    for r in range(10): \n",
    "        file_path = \"logprob_Barker_flips=\"+str(flip)+\"_P=\"+str(coe_P)+\"_J=\"+str(coe_J)+\"_m=1_r\"+str(r)+\"_esscountingmean.txt\"\n",
    "        print(file_path)\n",
    "        logprob_Barker_p= []\n",
    "\n",
    "        with open(file_path, 'r') as file:\n",
    "            for line in file:\n",
    "                cleaned_line = (line.strip()).split(' ') # Remove newline characters\n",
    "                logprob_Barker_p.append(int(cleaned_line[0]))        \n",
    "        logprob_repi.append(logprob_Barker_p)\n",
    "    logprob_Barker.append(logprob_repi)"
   ]
  },
  {
   "cell_type": "code",
   "execution_count": 3,
   "id": "c37b4e89",
   "metadata": {},
   "outputs": [
    {
     "name": "stderr",
     "output_type": "stream",
     "text": [
      "C:\\Users\\user\\anaconda3\\envs\\my-quantum-env\\lib\\site-packages\\arviz\\utils.py:175: NumbaDeprecationWarning: \u001b[1mThe 'nopython' keyword argument was not supplied to the 'numba.jit' decorator. The implicit default value for this argument is currently False, but it will be changed to True in Numba 0.59.0. See https://numba.readthedocs.io/en/stable/reference/deprecation.html#deprecation-of-object-mode-fall-back-behaviour-when-using-jit for details.\u001b[0m\n",
      "  numba_fn = numba.jit(**self.kwargs)(self.function)\n"
     ]
    }
   ],
   "source": [
    "#  ---------------------Fig.6:Calculate Effective Sample Size----------------------------------\n",
    "start=20000\n",
    "finish=120000\n",
    "one_over=10\n",
    "\n",
    "ESScount=[]\n",
    "for i in range(len(Plist)):\n",
    "    ESS_p=0\n",
    "    for r in range(10):\n",
    "        ESS_p+=az.ess(np.array(logprob_Barker[i][r][start:finish]))/one_over\n",
    "    ESScount.append(ESS_p)\n",
    "    \n",
    "MH_ESS_list=[]\n",
    "for r in range(10):\n",
    "    MH_ESS_list.append(az.ess(np.array(logprob_MH[r][start:finish])))\n",
    "MH_ESS=np.mean(MH_ESS_list)"
   ]
  },
  {
   "cell_type": "code",
   "execution_count": 4,
   "id": "e949b675",
   "metadata": {
    "scrolled": true
   },
   "outputs": [
    {
     "name": "stdout",
     "output_type": "stream",
     "text": [
      "[61.30120163572092, 101.78415247001065, 116.2348155147324, 129.71453789701386, 133.69792245123583] [30.65060081786046, 16.96402541166844, 10.566801410430218, 4.184339932161738, 1.8830693302990962]\n"
     ]
    }
   ],
   "source": [
    "#---------------------Fig.6:Calculate Effective Sample Size for QPMCMC/multiproposal MCMC(PMCMC)--------------------------\n",
    "QPMCMC_ESS=[]\n",
    "for i in range(len(Plist)):\n",
    "    QPMCMC_ESS.append(ESScount[i])\n",
    "    \n",
    "PMCMC_ESS=[]\n",
    "for i in range(len(Plist)):\n",
    "    PMCMC_ESS.append(ESScount[i]/(Plist[i]+1)) \n",
    "    \n",
    "print(QPMCMC_ESS,PMCMC_ESS)"
   ]
  },
  {
   "cell_type": "code",
   "execution_count": 6,
   "id": "da109064",
   "metadata": {},
   "outputs": [
    {
     "data": {
      "image/png": "[encoded data removed]",
      "text/plain": [
       "<Figure size 720x432 with 1 Axes>"
      ]
     },
     "metadata": {
      "needs_background": "light"
     },
     "output_type": "display_data"
    },
    {
     "data": {
      "text/plain": [
       "<Figure size 432x288 with 0 Axes>"
      ]
     },
     "metadata": {},
     "output_type": "display_data"
    }
   ],
   "source": [
    "# ----------------------------Fig.6:Display----------------------------------\n",
    "\n",
    "# name of the bars\n",
    "experiments = []\n",
    "for i in range(len(Plist)):\n",
    "    experiments.append('P='+str(Plist[i]))\n",
    "experiments.append('MH')\n",
    "\n",
    "bar_width = 0.35\n",
    "x = np.arange(len(experiments)-1)\n",
    "x_extend=np.arange(len(experiments))\n",
    "\n",
    "# plot the bars\n",
    "plt.figure(figsize=(10, 6))\n",
    "plt.bar(x - bar_width/2, QPMCMC_ESS, width=bar_width, label='QPMCMC', color='skyblue')\n",
    "plt.bar(x + bar_width/2, PMCMC_ESS, width=bar_width, label='PMCMC', color='orange')\n",
    "plt.bar(x_extend[-1], MH_ESS, width=bar_width, color='red')\n",
    "\n",
    "plt.xlabel('MCMC methods')\n",
    "plt.ylabel('ESS per 100k oracles')\n",
    "plt.title('Comparison of ESS per 100k Iterations at J = '+str(coe_J))\n",
    "plt.xticks(x_extend, experiments)\n",
    "plt.grid(axis='y', linestyle='--', alpha=0.7)\n",
    "plt.legend()\n",
    "plt.tight_layout()\n",
    "plt.show()\n",
    "\n",
    "plt.savefig(\"ESS_ComparisonJ_003\", dpi=200)"
   ]
  },
  {
   "cell_type": "code",
   "execution_count": null,
   "id": "7a7751ac",
   "metadata": {},
   "outputs": [],
   "source": []
  },
  {
   "cell_type": "code",
   "execution_count": null,
   "id": "215ba886",
   "metadata": {},
   "outputs": [],
   "source": []
  },
  {
   "cell_type": "code",
   "execution_count": 70,
   "id": "781b2721",
   "metadata": {},
   "outputs": [
    {
     "data": {
      "text/plain": [
       "1.6625"
      ]
     },
     "execution_count": 70,
     "metadata": {},
     "output_type": "execute_result"
    }
   ],
   "source": [
    "\n"
   ]
  },
  {
   "cell_type": "code",
   "execution_count": null,
   "id": "62a2daa0",
   "metadata": {},
   "outputs": [],
   "source": []
  }
 ],
 "metadata": {
  "kernelspec": {
   "display_name": "Python 3 (ipykernel)",
   "language": "python",
   "name": "python3"
  },
  "language_info": {
   "codemirror_mode": {
    "name": "ipython",
    "version": 3
   },
   "file_extension": ".py",
   "mimetype": "text/x-python",
   "name": "python",
   "nbconvert_exporter": "python",
   "pygments_lexer": "ipython3",
   "version": "3.8.12"
  }
 },
 "nbformat": 4,
 "nbformat_minor": 5
}
